{
  "nbformat": 4,
  "nbformat_minor": 0,
  "metadata": {
    "colab": {
      "provenance": [],
      "authorship_tag": "ABX9TyMfzCmuTGMNCzTsl2D7miy9",
      "include_colab_link": true
    },
    "kernelspec": {
      "name": "python3",
      "display_name": "Python 3"
    },
    "language_info": {
      "name": "python"
    }
  },
  "cells": [
    {
      "cell_type": "markdown",
      "metadata": {
        "id": "view-in-github",
        "colab_type": "text"
      },
      "source": [
        "<a href=\"https://colab.research.google.com/github/SubEdit/LookMovie-DL/blob/master/CHI_Map_image_creator.ipynb\" target=\"_parent\"><img src=\"https://colab.research.google.com/assets/colab-badge.svg\" alt=\"Open In Colab\"/></a>"
      ]
    },
    {
      "cell_type": "code",
      "source": [
        "#@title Install GDAL and required Python packages\n",
        "!apt-get install -y gdal-bin\n",
        "!pip install pillow requests"
      ],
      "metadata": {
        "cellView": "form",
        "id": "UCe4v4nTYQxv"
      },
      "execution_count": null,
      "outputs": []
    },
    {
      "cell_type": "code",
      "source": [
        "#@title Initiate Modules\n",
        "import os\n",
        "import math\n",
        "import requests\n",
        "from PIL import Image\n",
        "\n",
        "# Functions to convert between lat/lon and tile numbers\n",
        "def deg2num(lat_deg, lon_deg, zoom):\n",
        "    lat_rad = math.radians(lat_deg)\n",
        "    n = 2.0 ** zoom\n",
        "    xtile = int((lon_deg + 180.0) / 360.0 * n)\n",
        "    ytile = int((1.0 - math.log(math.tan(lat_rad) + 1/math.cos(lat_rad)) / math.pi) / 2.0 * n)\n",
        "    return (xtile, ytile)\n",
        "\n",
        "def num2deg(xtile, ytile, zoom):\n",
        "    n = 2.0 ** zoom\n",
        "    lon_deg = xtile / n * 360.0 - 180.0\n",
        "    lat_rad = math.atan(math.sinh(math.pi * (1 - 2 * ytile / n)))\n",
        "    lat_deg = math.degrees(lat_rad)\n",
        "    return (lat_deg, lon_deg)  # returns (lat, lon)\n",
        "\n",
        "# Define bounding box for Harar, Ethiopia.\n",
        "# Adjust these values as needed.\n",
        "area_of_interest = (9.292, 42.08, 9.333, 42.16)  # (lat_min, lon_min, lat_max, lon_max)\n",
        "lat_min, lon_min, lat_max, lon_max = area_of_interest\n",
        "\n",
        "zoom = 18\n",
        "# Compute tile range.\n",
        "# For the upper-left of the area, use the maximum latitude and minimum longitude.\n",
        "# For the lower-right, use the minimum latitude and maximum longitude.\n",
        "x_min, y_max = deg2num(lat_max, lon_min, zoom)  # top-left tile\n",
        "x_max, y_min = deg2num(lat_min, lon_max, zoom)  # bottom-right tile\n",
        "\n",
        "print(\"Tile X range: {} to {}\".format(x_min, x_max))\n",
        "print(\"Tile Y range: {} to {}\".format(y_min, y_max))\n",
        "\n",
        "# Create directory to store downloaded tiles\n",
        "tile_dir = \"tiles\"\n",
        "os.makedirs(tile_dir, exist_ok=True)\n",
        "\n",
        "tile_size = 256  # standard tile size in pixels"
      ],
      "metadata": {
        "colab": {
          "base_uri": "https://localhost:8080/"
        },
        "cellView": "form",
        "id": "wW00yN-UYXOz",
        "outputId": "cb9025d7-22e7-40fa-b13d-7361b678c26a"
      },
      "execution_count": 54,
      "outputs": [
        {
          "output_type": "stream",
          "name": "stdout",
          "text": [
            "Tile X range: 161713 to 161771\n",
            "Tile Y range: 124275 to 124245\n"
          ]
        }
      ]
    },
    {
      "cell_type": "code",
      "source": [
        "# @title Area Input Form (Default- Harar)\n",
        "\n",
        "lat_min = 9.292  # @param {type:\"number\"}\n",
        "lon_min = 42.08  # @param {type:\"number\"}\n",
        "lat_max = 9.333  # @param {type:\"number\"}\n",
        "lon_max = 42.16  # @param {type:\"number\"}\n",
        "zoom = 18  # @param {type:\"slider\", min:1, max:18}\n",
        "\n",
        "area_of_interest = (lat_min, lon_min, lat_max, lon_max)\n",
        "\n",
        "print(\"Area of Interest:\", area_of_interest)\n",
        "print(\"Zoom Level:\", zoom)"
      ],
      "metadata": {
        "cellView": "form",
        "id": "caczFO6DtUfl"
      },
      "execution_count": null,
      "outputs": []
    },
    {
      "cell_type": "code",
      "source": [
        "import shutil\n",
        "shutil.rmtree('tiles')\n",
        "os.mkdir('tiles')\n",
        "if y_min > y_max:\n",
        "    y_min, y_max = y_max, y_min\n",
        "if x_min > x_max:\n",
        "    x_min, x_max = x_max, x_min\n",
        "x_min, x_max, y_min, y_max\n",
        "# https://server.arcgisonline.com/ArcGIS/rest/services/World_Imagery/MapServer/tile/16/31072/40443"
      ],
      "metadata": {
        "id": "ejG-S_lhhaC3"
      },
      "execution_count": 56,
      "outputs": []
    },
    {
      "cell_type": "code",
      "execution_count": null,
      "metadata": {
        "cellView": "form",
        "id": "Fpqi9eT5YLsQ"
      },
      "outputs": [],
      "source": [
        "#@title Run to Download each tile from ArcGIS World Imagery.\n",
        "# Note: The ArcGIS service returns JPEG images.\n",
        "for x in range(x_min, x_max + 1):\n",
        "    for y in range(y_min, y_max + 1):\n",
        "        url = f\"https://server.arcgisonline.com/ArcGIS/rest/services/World_Imagery/MapServer/tile/{zoom}/{y}/{x}\"\n",
        "        tile_filename = os.path.join(tile_dir, f\"{zoom}_{x}_{y}.jpg\")\n",
        "        if not os.path.exists(tile_filename):\n",
        "            print(\"Downloading\", url)\n",
        "            r = requests.get(url)\n",
        "            if r.status_code == 200:\n",
        "                with open(tile_filename, \"wb\") as f:\n",
        "                    f.write(r.content)\n",
        "            else:\n",
        "                print(\"Failed to download\", url)\n"
      ]
    },
    {
      "cell_type": "code",
      "source": [
        "#@title Run to Stitch tiles together using PIL. (download merged_tiles.jpg when done)\n",
        "num_tiles_x = x_max - x_min + 1\n",
        "num_tiles_y = y_max - y_min + 1\n",
        "merged_img = Image.new('RGB', (num_tiles_x * tile_size, num_tiles_y * tile_size))\n",
        "\n",
        "# In the tile scheme, y increases downward.\n",
        "for i, x in enumerate(range(x_min, x_max + 1)):\n",
        "    for j, y in enumerate(range(y_min, y_max + 1)):\n",
        "        tile_path = os.path.join(tile_dir, f\"{zoom}_{x}_{y}.jpg\")\n",
        "        try:\n",
        "            tile = Image.open(tile_path)\n",
        "            merged_img.paste(tile, (i * tile_size, j * tile_size))\n",
        "        except Exception as e:\n",
        "            print(\"Error opening\", tile_path, e)\n",
        "\n",
        "merged_filename = \"merged_tiles.jpg\"\n",
        "merged_img.save(merged_filename)\n",
        "print(\"Merged image saved as\", merged_filename)"
      ],
      "metadata": {
        "colab": {
          "base_uri": "https://localhost:8080/"
        },
        "cellView": "form",
        "id": "iHNR_wuXYe8O",
        "outputId": "12f73b52-3914-42a3-9962-9cd00f630170"
      },
      "execution_count": 59,
      "outputs": [
        {
          "output_type": "stream",
          "name": "stdout",
          "text": [
            "Merged image saved as merged_tiles.jpg\n"
          ]
        }
      ]
    }
  ]
}